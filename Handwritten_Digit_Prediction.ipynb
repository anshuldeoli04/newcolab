{
  "nbformat": 4,
  "nbformat_minor": 0,
  "metadata": {
    "colab": {
      "provenance": [],
      "authorship_tag": "ABX9TyOFtCHqKvhEN6lKxz9WgnXp",
      "include_colab_link": true
    },
    "kernelspec": {
      "name": "python3",
      "display_name": "Python 3"
    },
    "language_info": {
      "name": "python"
    }
  },
  "cells": [
    {
      "cell_type": "markdown",
      "metadata": {
        "id": "view-in-github",
        "colab_type": "text"
      },
      "source": [
        "<a href=\"https://colab.research.google.com/github/anshuldeoli04/newcolab/blob/main/Handwritten_Digit_Prediction.ipynb\" target=\"_parent\"><img src=\"https://colab.research.google.com/assets/colab-badge.svg\" alt=\"Open In Colab\"/></a>"
      ]
    },
    {
      "cell_type": "markdown",
      "source": [
        "# **Title of Project**-\n",
        "# **Handwritten Digit Prediction - Classification Analysis**"
      ],
      "metadata": {
        "id": "KbZ7Z_JNyQ-k"
      }
    },
    {
      "cell_type": "markdown",
      "source": [
        "# Objective-\n",
        "The objective of this project is to develop and evaluate a machine learning model capable of accurately classifying handwritten digits. This will be achieved by utilizing various machine learning algorithms and techniques, including data preprocessing, feature extraction, model training, and validation. The expected outcome is to achieve a high level of accuracy in digit recognition, thereby demonstrating the potential of machine learning in automating the process of handwritten digit classification. This project is relevant as it showcases the application of machine learning in solving real-world problems and provides insights into the development of effective classification models."
      ],
      "metadata": {
        "id": "GeaV5L3byoVA"
      }
    },
    {
      "cell_type": "markdown",
      "source": [
        "# **Import Library**"
      ],
      "metadata": {
        "id": "G-0WsUZPy_Uf"
      }
    },
    {
      "cell_type": "code",
      "source": [
        "import pandas as pd\n",
        "import numpy as np\n",
        "import matplotlib.pyplot as plt"
      ],
      "metadata": {
        "id": "0neoUl0pzFYI"
      },
      "execution_count": 1,
      "outputs": []
    },
    {
      "cell_type": "markdown",
      "source": [
        "# **Import Data**"
      ],
      "metadata": {
        "id": "ty3jK1zwzhi2"
      }
    },
    {
      "cell_type": "code",
      "source": [
        "from sklearn.datasets import load_digits"
      ],
      "metadata": {
        "id": "wJnMo427zny6"
      },
      "execution_count": 2,
      "outputs": []
    },
    {
      "cell_type": "code",
      "source": [
        "df=load_digits()"
      ],
      "metadata": {
        "id": "z3OxZnpZz4i5"
      },
      "execution_count": 3,
      "outputs": []
    },
    {
      "cell_type": "code",
      "source": [
        "_,axes = plt.subplots(nrows=1,ncols=4, figsize=(10,3))\n",
        "for ax, image, lable in zip(axes,df.images,df.target):\n",
        "    ax.set_axis_off()\n",
        "    ax.imshow(image, cmap=plt.cm.gray_r,interpolation=\"nearest\")\n",
        "    ax.set_title(\"Training: %i\" % lable)"
      ],
      "metadata": {
        "colab": {
          "base_uri": "https://localhost:8080/",
          "height": 227
        },
        "id": "r43Bm1CS0OLk",
        "outputId": "61fd508d-b81d-47cb-d811-fb3875d3b368"
      },
      "execution_count": 4,
      "outputs": [
        {
          "output_type": "display_data",
          "data": {
            "text/plain": [
              "<Figure size 1000x300 with 4 Axes>"
            ],
            "image/png": "[encoded data removed]"
          },
          "metadata": {}
        }
      ]
    },
    {
      "cell_type": "markdown",
      "source": [
        "# **Data Preprocessing**\n",
        "Flatten Image\n",
        "\n",
        "\n",
        "\n",
        "\n",
        "\n",
        "\n",
        "\n",
        "\n",
        "\n",
        "\n",
        "\n",
        "![image.png](data:image/png;base64,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)\n"
      ],
      "metadata": {
        "id": "fh-XtmrQ4Jr2"
      }
    },
    {
      "cell_type": "code",
      "source": [
        "df.images.shape"
      ],
      "metadata": {
        "colab": {
          "base_uri": "https://localhost:8080/"
        },
        "id": "w1qbG6o25A_l",
        "outputId": "2eda468b-ef85-4184-9164-f931bebf53c8"
      },
      "execution_count": 5,
      "outputs": [
        {
          "output_type": "execute_result",
          "data": {
            "text/plain": [
              "(1797, 8, 8)"
            ]
          },
          "metadata": {},
          "execution_count": 5
        }
      ]
    },
    {
      "cell_type": "code",
      "source": [
        "df.images[0]"
      ],
      "metadata": {
        "colab": {
          "base_uri": "https://localhost:8080/"
        },
        "id": "XdGBgrBE5O-z",
        "outputId": "96efa305-6424-4a2d-80b5-3d29fb33fa08"
      },
      "execution_count": 6,
      "outputs": [
        {
          "output_type": "execute_result",
          "data": {
            "text/plain": [
              "array([[ 0.,  0.,  5., 13.,  9.,  1.,  0.,  0.],\n",
              "       [ 0.,  0., 13., 15., 10., 15.,  5.,  0.],\n",
              "       [ 0.,  3., 15.,  2.,  0., 11.,  8.,  0.],\n",
              "       [ 0.,  4., 12.,  0.,  0.,  8.,  8.,  0.],\n",
              "       [ 0.,  5.,  8.,  0.,  0.,  9.,  8.,  0.],\n",
              "       [ 0.,  4., 11.,  0.,  1., 12.,  7.,  0.],\n",
              "       [ 0.,  2., 14.,  5., 10., 12.,  0.,  0.],\n",
              "       [ 0.,  0.,  6., 13., 10.,  0.,  0.,  0.]])"
            ]
          },
          "metadata": {},
          "execution_count": 6
        }
      ]
    },
    {
      "cell_type": "code",
      "source": [
        "df.images[0].shape"
      ],
      "metadata": {
        "colab": {
          "base_uri": "https://localhost:8080/"
        },
        "id": "CsHizTJB5TzT",
        "outputId": "40970dac-815f-46f4-b7c9-ebf4ccae5610"
      },
      "execution_count": 7,
      "outputs": [
        {
          "output_type": "execute_result",
          "data": {
            "text/plain": [
              "(8, 8)"
            ]
          },
          "metadata": {},
          "execution_count": 7
        }
      ]
    },
    {
      "cell_type": "code",
      "source": [
        "len(df.images)"
      ],
      "metadata": {
        "colab": {
          "base_uri": "https://localhost:8080/"
        },
        "id": "1ogsXGQ_5Zeu",
        "outputId": "92920814-4920-43d8-da4e-ce0a46ef73c4"
      },
      "execution_count": 8,
      "outputs": [
        {
          "output_type": "execute_result",
          "data": {
            "text/plain": [
              "1797"
            ]
          },
          "metadata": {},
          "execution_count": 8
        }
      ]
    },
    {
      "cell_type": "code",
      "source": [
        "n_samples = len(df.images)\n",
        "data = df.images.reshape((n_samples, -1))"
      ],
      "metadata": {
        "id": "D79fN8va5c8k"
      },
      "execution_count": 9,
      "outputs": []
    },
    {
      "cell_type": "code",
      "source": [
        "data[0]"
      ],
      "metadata": {
        "colab": {
          "base_uri": "https://localhost:8080/"
        },
        "id": "StTnOijs5wjU",
        "outputId": "ae02e6c8-ec3a-4995-a90f-ddb4ae45c231"
      },
      "execution_count": 10,
      "outputs": [
        {
          "output_type": "execute_result",
          "data": {
            "text/plain": [
              "array([ 0.,  0.,  5., 13.,  9.,  1.,  0.,  0.,  0.,  0., 13., 15., 10.,\n",
              "       15.,  5.,  0.,  0.,  3., 15.,  2.,  0., 11.,  8.,  0.,  0.,  4.,\n",
              "       12.,  0.,  0.,  8.,  8.,  0.,  0.,  5.,  8.,  0.,  0.,  9.,  8.,\n",
              "        0.,  0.,  4., 11.,  0.,  1., 12.,  7.,  0.,  0.,  2., 14.,  5.,\n",
              "       10., 12.,  0.,  0.,  0.,  0.,  6., 13., 10.,  0.,  0.,  0.])"
            ]
          },
          "metadata": {},
          "execution_count": 10
        }
      ]
    },
    {
      "cell_type": "markdown",
      "source": [
        "# **Scaling Image Data**\n"
      ],
      "metadata": {
        "id": "aZ214edy55P1"
      }
    },
    {
      "cell_type": "code",
      "source": [
        "data.min()"
      ],
      "metadata": {
        "colab": {
          "base_uri": "https://localhost:8080/"
        },
        "id": "_rCx1Sfo501j",
        "outputId": "a5212530-bc4d-4105-8f86-d5fe25160735"
      },
      "execution_count": 11,
      "outputs": [
        {
          "output_type": "execute_result",
          "data": {
            "text/plain": [
              "0.0"
            ]
          },
          "metadata": {},
          "execution_count": 11
        }
      ]
    },
    {
      "cell_type": "code",
      "source": [
        "data.max()"
      ],
      "metadata": {
        "colab": {
          "base_uri": "https://localhost:8080/"
        },
        "id": "E4RmSCye6Ge-",
        "outputId": "b087a991-835a-480b-e589-944c8f884fd6"
      },
      "execution_count": 12,
      "outputs": [
        {
          "output_type": "execute_result",
          "data": {
            "text/plain": [
              "16.0"
            ]
          },
          "metadata": {},
          "execution_count": 12
        }
      ]
    },
    {
      "cell_type": "code",
      "source": [
        "data=data/16"
      ],
      "metadata": {
        "id": "9uLH-IO_6KOg"
      },
      "execution_count": 13,
      "outputs": []
    },
    {
      "cell_type": "code",
      "source": [
        "data.min()"
      ],
      "metadata": {
        "colab": {
          "base_uri": "https://localhost:8080/"
        },
        "id": "AUUaQhlw6M0i",
        "outputId": "a8bd421b-c76f-42c1-e574-21589107bc1a"
      },
      "execution_count": 14,
      "outputs": [
        {
          "output_type": "execute_result",
          "data": {
            "text/plain": [
              "0.0"
            ]
          },
          "metadata": {},
          "execution_count": 14
        }
      ]
    },
    {
      "cell_type": "code",
      "source": [
        "data.max()"
      ],
      "metadata": {
        "colab": {
          "base_uri": "https://localhost:8080/"
        },
        "id": "91btHrxJ6PxX",
        "outputId": "8893e553-2d2d-4db8-a5d9-09f8fd6dbad0"
      },
      "execution_count": 15,
      "outputs": [
        {
          "output_type": "execute_result",
          "data": {
            "text/plain": [
              "1.0"
            ]
          },
          "metadata": {},
          "execution_count": 15
        }
      ]
    },
    {
      "cell_type": "code",
      "source": [
        "data[0]"
      ],
      "metadata": {
        "colab": {
          "base_uri": "https://localhost:8080/"
        },
        "id": "wdPwTmtW6TgF",
        "outputId": "dc70024e-00b9-4e23-e7e9-55e7498f2eff"
      },
      "execution_count": 16,
      "outputs": [
        {
          "output_type": "execute_result",
          "data": {
            "text/plain": [
              "array([0.    , 0.    , 0.3125, 0.8125, 0.5625, 0.0625, 0.    , 0.    ,\n",
              "       0.    , 0.    , 0.8125, 0.9375, 0.625 , 0.9375, 0.3125, 0.    ,\n",
              "       0.    , 0.1875, 0.9375, 0.125 , 0.    , 0.6875, 0.5   , 0.    ,\n",
              "       0.    , 0.25  , 0.75  , 0.    , 0.    , 0.5   , 0.5   , 0.    ,\n",
              "       0.    , 0.3125, 0.5   , 0.    , 0.    , 0.5625, 0.5   , 0.    ,\n",
              "       0.    , 0.25  , 0.6875, 0.    , 0.0625, 0.75  , 0.4375, 0.    ,\n",
              "       0.    , 0.125 , 0.875 , 0.3125, 0.625 , 0.75  , 0.    , 0.    ,\n",
              "       0.    , 0.    , 0.375 , 0.8125, 0.625 , 0.    , 0.    , 0.    ])"
            ]
          },
          "metadata": {},
          "execution_count": 16
        }
      ]
    },
    {
      "cell_type": "markdown",
      "source": [
        "# **Train Test Split Data**"
      ],
      "metadata": {
        "id": "-JMxzQa46kSd"
      }
    },
    {
      "cell_type": "code",
      "source": [
        "from sklearn.model_selection import train_test_split\n",
        "x_train, x_test, y_train, y_test = train_test_split(data,df.target,test_size=0.3)"
      ],
      "metadata": {
        "id": "2lNazlJm6gPG"
      },
      "execution_count": 17,
      "outputs": []
    },
    {
      "cell_type": "code",
      "source": [
        "x_train.shape, x_test.shape, y_train.shape , y_test.shape"
      ],
      "metadata": {
        "colab": {
          "base_uri": "https://localhost:8080/"
        },
        "id": "t5MfDnDT7NdR",
        "outputId": "92dc78cc-40e4-443b-8ff0-75dc642fcdde"
      },
      "execution_count": null,
      "outputs": [
        {
          "output_type": "execute_result",
          "data": {
            "text/plain": [
              "((1257, 64), (540, 64), (1257,), (540,))"
            ]
          },
          "metadata": {},
          "execution_count": 18
        }
      ]
    },
    {
      "cell_type": "markdown",
      "source": [
        "# **Random Forest Model**"
      ],
      "metadata": {
        "id": "qprp-jEc7bUO"
      }
    },
    {
      "cell_type": "code",
      "source": [
        "from sklearn.ensemble import RandomForestClassifier\n",
        "rf=RandomForestClassifier()\n",
        "rf.fit(x_train,y_train)"
      ],
      "metadata": {
        "colab": {
          "base_uri": "https://localhost:8080/",
          "height": 74
        },
        "id": "L6DvIAIi7iGm",
        "outputId": "49a9d3c4-28b0-418c-be10-89df31696170"
      },
      "execution_count": 18,
      "outputs": [
        {
          "output_type": "execute_result",
          "data": {
            "text/plain": [
              "RandomForestClassifier()"
            ],
            "text/html": [
              "<style>#sk-container-id-1 {color: black;background-color: white;}#sk-container-id-1 pre{padding: 0;}#sk-container-id-1 div.sk-toggleable {background-color: white;}#sk-container-id-1 label.sk-toggleable__label {cursor: pointer;display: block;width: 100%;margin-bottom: 0;padding: 0.3em;box-sizing: border-box;text-align: center;}#sk-container-id-1 label.sk-toggleable__label-arrow:before {content: \"▸\";float: left;margin-right: 0.25em;color: #696969;}#sk-container-id-1 label.sk-toggleable__label-arrow:hover:before {color: black;}#sk-container-id-1 div.sk-estimator:hover label.sk-toggleable__label-arrow:before {color: black;}#sk-container-id-1 div.sk-toggleable__content {max-height: 0;max-width: 0;overflow: hidden;text-align: left;background-color: #f0f8ff;}#sk-container-id-1 div.sk-toggleable__content pre {margin: 0.2em;color: black;border-radius: 0.25em;background-color: #f0f8ff;}#sk-container-id-1 input.sk-toggleable__control:checked~div.sk-toggleable__content {max-height: 200px;max-width: 100%;overflow: auto;}#sk-container-id-1 input.sk-toggleable__control:checked~label.sk-toggleable__label-arrow:before {content: \"▾\";}#sk-container-id-1 div.sk-estimator input.sk-toggleable__control:checked~label.sk-toggleable__label {background-color: #d4ebff;}#sk-container-id-1 div.sk-label input.sk-toggleable__control:checked~label.sk-toggleable__label {background-color: #d4ebff;}#sk-container-id-1 input.sk-hidden--visually {border: 0;clip: rect(1px 1px 1px 1px);clip: rect(1px, 1px, 1px, 1px);height: 1px;margin: -1px;overflow: hidden;padding: 0;position: absolute;width: 1px;}#sk-container-id-1 div.sk-estimator {font-family: monospace;background-color: #f0f8ff;border: 1px dotted black;border-radius: 0.25em;box-sizing: border-box;margin-bottom: 0.5em;}#sk-container-id-1 div.sk-estimator:hover {background-color: #d4ebff;}#sk-container-id-1 div.sk-parallel-item::after {content: \"\";width: 100%;border-bottom: 1px solid gray;flex-grow: 1;}#sk-container-id-1 div.sk-label:hover label.sk-toggleable__label {background-color: #d4ebff;}#sk-container-id-1 div.sk-serial::before {content: \"\";position: absolute;border-left: 1px solid gray;box-sizing: border-box;top: 0;bottom: 0;left: 50%;z-index: 0;}#sk-container-id-1 div.sk-serial {display: flex;flex-direction: column;align-items: center;background-color: white;padding-right: 0.2em;padding-left: 0.2em;position: relative;}#sk-container-id-1 div.sk-item {position: relative;z-index: 1;}#sk-container-id-1 div.sk-parallel {display: flex;align-items: stretch;justify-content: center;background-color: white;position: relative;}#sk-container-id-1 div.sk-item::before, #sk-container-id-1 div.sk-parallel-item::before {content: \"\";position: absolute;border-left: 1px solid gray;box-sizing: border-box;top: 0;bottom: 0;left: 50%;z-index: -1;}#sk-container-id-1 div.sk-parallel-item {display: flex;flex-direction: column;z-index: 1;position: relative;background-color: white;}#sk-container-id-1 div.sk-parallel-item:first-child::after {align-self: flex-end;width: 50%;}#sk-container-id-1 div.sk-parallel-item:last-child::after {align-self: flex-start;width: 50%;}#sk-container-id-1 div.sk-parallel-item:only-child::after {width: 0;}#sk-container-id-1 div.sk-dashed-wrapped {border: 1px dashed gray;margin: 0 0.4em 0.5em 0.4em;box-sizing: border-box;padding-bottom: 0.4em;background-color: white;}#sk-container-id-1 div.sk-label label {font-family: monospace;font-weight: bold;display: inline-block;line-height: 1.2em;}#sk-container-id-1 div.sk-label-container {text-align: center;}#sk-container-id-1 div.sk-container {/* jupyter's `normalize.less` sets `[hidden] { display: none; }` but bootstrap.min.css set `[hidden] { display: none !important; }` so we also need the `!important` here to be able to override the default hidden behavior on the sphinx rendered scikit-learn.org. See: https://github.com/scikit-learn/scikit-learn/issues/21755 */display: inline-block !important;position: relative;}#sk-container-id-1 div.sk-text-repr-fallback {display: none;}</style><div id=\"sk-container-id-1\" class=\"sk-top-container\"><div class=\"sk-text-repr-fallback\"><pre>RandomForestClassifier()</pre><b>In a Jupyter environment, please rerun this cell to show the HTML representation or trust the notebook. <br />On GitHub, the HTML representation is unable to render, please try loading this page with nbviewer.org.</b></div><div class=\"sk-container\" hidden><div class=\"sk-item\"><div class=\"sk-estimator sk-toggleable\"><input class=\"sk-toggleable__control sk-hidden--visually\" id=\"sk-estimator-id-1\" type=\"checkbox\" checked><label for=\"sk-estimator-id-1\" class=\"sk-toggleable__label sk-toggleable__label-arrow\">RandomForestClassifier</label><div class=\"sk-toggleable__content\"><pre>RandomForestClassifier()</pre></div></div></div></div></div>"
            ]
          },
          "metadata": {},
          "execution_count": 18
        }
      ]
    },
    {
      "cell_type": "markdown",
      "source": [
        "# **Predict Test Data**"
      ],
      "metadata": {
        "id": "w5bWlpp991o3"
      }
    },
    {
      "cell_type": "code",
      "source": [
        "y_pred = rf.predict(x_test)"
      ],
      "metadata": {
        "id": "qveIWYP190C-"
      },
      "execution_count": 19,
      "outputs": []
    },
    {
      "cell_type": "code",
      "source": [
        "y_pred"
      ],
      "metadata": {
        "colab": {
          "base_uri": "https://localhost:8080/"
        },
        "id": "Ym0IYSsH-C6o",
        "outputId": "09ed4f21-03b3-4914-9e5c-b48704367fce"
      },
      "execution_count": 20,
      "outputs": [
        {
          "output_type": "execute_result",
          "data": {
            "text/plain": [
              "array([2, 5, 6, 7, 8, 8, 3, 9, 7, 3, 7, 5, 5, 7, 2, 1, 5, 1, 5, 7, 9, 6,\n",
              "       3, 1, 2, 5, 1, 5, 8, 4, 4, 7, 5, 0, 2, 6, 4, 8, 5, 8, 2, 2, 3, 9,\n",
              "       9, 6, 9, 9, 0, 4, 2, 8, 6, 4, 3, 4, 1, 2, 1, 6, 4, 0, 0, 2, 1, 9,\n",
              "       2, 8, 3, 6, 6, 0, 3, 4, 4, 3, 5, 9, 5, 2, 0, 9, 8, 4, 9, 0, 7, 8,\n",
              "       9, 9, 3, 8, 9, 2, 1, 2, 0, 6, 9, 7, 2, 0, 0, 6, 3, 7, 1, 3, 5, 4,\n",
              "       1, 1, 2, 1, 3, 2, 8, 9, 7, 3, 9, 4, 5, 2, 2, 2, 0, 7, 5, 3, 0, 7,\n",
              "       6, 0, 5, 8, 5, 4, 1, 0, 5, 6, 8, 2, 6, 4, 3, 1, 4, 2, 4, 9, 3, 7,\n",
              "       9, 3, 9, 1, 1, 8, 6, 9, 2, 5, 7, 6, 1, 0, 7, 2, 4, 7, 4, 2, 1, 1,\n",
              "       2, 9, 0, 7, 9, 9, 9, 0, 9, 8, 3, 1, 1, 4, 5, 6, 1, 9, 4, 3, 1, 8,\n",
              "       9, 9, 1, 3, 8, 2, 8, 2, 9, 1, 4, 5, 5, 5, 8, 2, 7, 5, 1, 8, 3, 0,\n",
              "       3, 9, 9, 9, 5, 3, 2, 3, 3, 2, 0, 2, 3, 3, 2, 7, 4, 9, 5, 7, 2, 0,\n",
              "       6, 3, 7, 8, 1, 2, 2, 6, 4, 1, 4, 0, 0, 1, 1, 7, 7, 9, 8, 8, 9, 7,\n",
              "       6, 0, 0, 5, 6, 2, 8, 1, 2, 9, 8, 8, 3, 2, 2, 8, 4, 1, 1, 7, 5, 1,\n",
              "       3, 9, 4, 5, 9, 0, 1, 8, 4, 2, 6, 7, 7, 6, 3, 9, 4, 9, 1, 2, 2, 6,\n",
              "       1, 2, 2, 3, 8, 8, 1, 8, 8, 9, 6, 5, 5, 1, 3, 9, 5, 3, 4, 3, 0, 1,\n",
              "       5, 3, 1, 5, 1, 7, 2, 4, 9, 6, 0, 1, 8, 5, 2, 6, 2, 6, 6, 6, 3, 4,\n",
              "       0, 4, 4, 0, 1, 8, 9, 2, 9, 3, 0, 6, 8, 8, 0, 9, 5, 7, 1, 9, 6, 9,\n",
              "       2, 3, 6, 9, 0, 5, 0, 8, 4, 8, 3, 5, 6, 7, 9, 2, 4, 8, 7, 6, 3, 9,\n",
              "       8, 0, 4, 6, 4, 3, 1, 9, 5, 3, 7, 9, 2, 3, 6, 2, 2, 6, 3, 5, 4, 4,\n",
              "       5, 1, 3, 5, 4, 5, 4, 7, 2, 8, 4, 0, 7, 3, 5, 3, 8, 5, 1, 1, 5, 1,\n",
              "       7, 7, 2, 8, 5, 3, 4, 6, 3, 7, 2, 9, 1, 7, 1, 8, 0, 6, 1, 9, 5, 0,\n",
              "       6, 5, 6, 4, 3, 9, 0, 8, 2, 7, 9, 5, 6, 1, 4, 5, 8, 9, 7, 6, 7, 5,\n",
              "       2, 2, 5, 8, 7, 0, 1, 8, 7, 1, 8, 3, 1, 6, 4, 1, 9, 1, 6, 2, 5, 2,\n",
              "       5, 4, 5, 3, 1, 8, 7, 6, 9, 3, 9, 9, 6, 9, 7, 5, 1, 6, 1, 6, 4, 2,\n",
              "       6, 0, 9, 4, 1, 4, 2, 2, 1, 3, 1, 7])"
            ]
          },
          "metadata": {},
          "execution_count": 20
        }
      ]
    },
    {
      "cell_type": "markdown",
      "source": [
        "# **Model Accuracy**"
      ],
      "metadata": {
        "id": "0hR7iEw1-Kwf"
      }
    },
    {
      "cell_type": "code",
      "source": [
        "from sklearn.metrics import confusion_matrix,classification_report\n",
        "confusion_matrix(y_test,y_pred)"
      ],
      "metadata": {
        "colab": {
          "base_uri": "https://localhost:8080/"
        },
        "id": "u2mmLY83-FsB",
        "outputId": "70c211b1-75a6-4aac-a8d5-46929f377062"
      },
      "execution_count": 21,
      "outputs": [
        {
          "output_type": "execute_result",
          "data": {
            "text/plain": [
              "array([[39,  0,  0,  0,  0,  0,  0,  0,  0,  0],\n",
              "       [ 0, 63,  0,  0,  0,  0,  0,  0,  0,  0],\n",
              "       [ 0,  0, 64,  0,  0,  0,  0,  0,  0,  1],\n",
              "       [ 0,  0,  0, 53,  0,  0,  0,  3,  0,  1],\n",
              "       [ 0,  0,  0,  0, 50,  0,  0,  1,  0,  1],\n",
              "       [ 0,  0,  0,  0,  0, 53,  1,  0,  0,  0],\n",
              "       [ 1,  0,  0,  0,  0,  1, 49,  0,  0,  0],\n",
              "       [ 0,  0,  0,  0,  0,  0,  0, 42,  0,  0],\n",
              "       [ 0,  2,  0,  0,  0,  1,  0,  0, 50,  0],\n",
              "       [ 0,  0,  0,  2,  0,  1,  0,  0,  0, 61]])"
            ]
          },
          "metadata": {},
          "execution_count": 21
        }
      ]
    },
    {
      "cell_type": "code",
      "source": [
        "print(classification_report(y_test,y_pred))"
      ],
      "metadata": {
        "colab": {
          "base_uri": "https://localhost:8080/"
        },
        "id": "KQiYgLly-gvb",
        "outputId": "b66cd4a0-7035-4749-c29f-c8338e6b2cc1"
      },
      "execution_count": 22,
      "outputs": [
        {
          "output_type": "stream",
          "name": "stdout",
          "text": [
            "              precision    recall  f1-score   support\n",
            "\n",
            "           0       0.97      1.00      0.99        39\n",
            "           1       0.97      1.00      0.98        63\n",
            "           2       1.00      0.98      0.99        65\n",
            "           3       0.96      0.93      0.95        57\n",
            "           4       1.00      0.96      0.98        52\n",
            "           5       0.95      0.98      0.96        54\n",
            "           6       0.98      0.96      0.97        51\n",
            "           7       0.91      1.00      0.95        42\n",
            "           8       1.00      0.94      0.97        53\n",
            "           9       0.95      0.95      0.95        64\n",
            "\n",
            "    accuracy                           0.97       540\n",
            "   macro avg       0.97      0.97      0.97       540\n",
            "weighted avg       0.97      0.97      0.97       540\n",
            "\n"
          ]
        }
      ]
    }
  ]
}